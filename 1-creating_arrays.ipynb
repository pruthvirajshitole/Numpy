{
 "cells": [
  {
   "cell_type": "code",
   "execution_count": null,
   "id": "ab702f55-06ec-49d2-952f-abcc56fcb954",
   "metadata": {},
   "outputs": [],
   "source": [
    "'''\n",
    "What is NumPy?\n",
    "NumPy is a Python library used for working with arrays.\n",
    "It also has functions for working in domain of linear algebra, fourier transform, and matrices.\n",
    "NumPy was created in 2005 by Travis Oliphant.\n",
    "It is an open source project and you can use it freely.\n",
    "NumPy stands for Numerical Python.\n",
    "\n",
    "Why Use NumPy?\n",
    "In Python we have lists that serve the purpose of arrays, but they are slow to process.\n",
    "NumPy aims to provide an array object that is up to 50x faster than traditional Python lists.\n",
    "The array object in NumPy is called ndarray, it provides a lot of supporting functions that make working with ndarray very easy.\n",
    "Arrays are very frequently used in data science, where speed and resources are very important.\n",
    "\n",
    "Why is NumPy Faster Than Lists?\n",
    "NumPy arrays are stored at one continuous place in memory unlike lists,\n",
    "so processes can access and manipulate them very efficiently.\n",
    "This behavior is called locality of reference in computer science.\n",
    "This is the main reason why NumPy is faster than lists.\n",
    "Also it is optimized to work with latest CPU architectures.\n",
    "\n",
    "Which Language is NumPy written in?\n",
    "NumPy is a Python library and is written partially in Python,\n",
    "but most of the parts that require fast computation are written in C or C++.\n",
    "\n",
    "'''"
   ]
  },
  {
   "cell_type": "markdown",
   "id": "4213f633",
   "metadata": {},
   "source": [
    "Array:\n"
   ]
  },
  {
   "cell_type": "code",
   "execution_count": null,
   "id": "745781d6",
   "metadata": {},
   "outputs": [],
   "source": [
    "'''\n",
    "    Collection of homogenous data\n",
    "    indexed and oredered\n",
    "    allows duplicate values\n",
    "    Mutable\n",
    "'''"
   ]
  },
  {
   "cell_type": "code",
   "execution_count": 15,
   "id": "d91d5e72",
   "metadata": {},
   "outputs": [],
   "source": [
    "import numpy as np"
   ]
  },
  {
   "cell_type": "code",
   "execution_count": null,
   "id": "2c20254e",
   "metadata": {},
   "outputs": [
    {
     "name": "stdout",
     "output_type": "stream",
     "text": [
      "11\n",
      "<class 'numpy.ndarray'>\n",
      "int64\n",
      "()\n",
      "0\n",
      "11.0\n",
      "<class 'numpy.ndarray'>\n",
      "float64\n",
      "0\n"
     ]
    }
   ],
   "source": [
    "arr = np.array(11)\n",
    "print(arr)\n",
    "print(type(arr))  # <class 'numpy.ndarray'>\n",
    "print(arr.dtype)  # int64\n",
    "print(arr.shape)\n",
    "print(arr.ndim)\n",
    "\n",
    "arr = np.array(11.0)\n",
    "print(arr)\n",
    "print(type(arr))  \n",
    "print(arr.dtype)  # float64\n",
    "print(arr.ndim)"
   ]
  },
  {
   "cell_type": "markdown",
   "id": "dda68ae6",
   "metadata": {},
   "source": [
    "1D Array"
   ]
  },
  {
   "cell_type": "code",
   "execution_count": null,
   "id": "4affc538",
   "metadata": {},
   "outputs": [
    {
     "name": "stdout",
     "output_type": "stream",
     "text": [
      "['1' '2' '3' '4' '5' 'Lucy']\n",
      "<class 'numpy.ndarray'>\n",
      "<U21\n",
      "1\n",
      "(6,)\n"
     ]
    }
   ],
   "source": [
    "arr=np.array([1,2,3,4,5,'Lucy'])\n",
    "print(arr)\n",
    "print(type(arr))\n",
    "print((arr).dtype)  # <U21  # similar to str\n",
    "print((arr).ndim)  # 1\n",
    "print(arr.shape)  # (6,)   # tuple()"
   ]
  },
  {
   "cell_type": "markdown",
   "id": "c62cf0a7",
   "metadata": {},
   "source": [
    "2D Array"
   ]
  },
  {
   "cell_type": "code",
   "execution_count": 25,
   "id": "546094c5",
   "metadata": {},
   "outputs": [
    {
     "name": "stdout",
     "output_type": "stream",
     "text": [
      "[[1 2 3 4 5]\n",
      " [6 7 8 9 1]]\n",
      "<class 'numpy.ndarray'>\n",
      "int64\n",
      "2\n",
      "(2, 5)\n"
     ]
    }
   ],
   "source": [
    "arr=np.array([\n",
    "              [1,2,3,4,5],\n",
    "              [6,7,8,9,1]\n",
    "             ])\n",
    "print(arr)\n",
    "print(type(arr))\n",
    "print((arr).dtype)\n",
    "print((arr).ndim)  # 2\n",
    "print((arr).shape)  # (2, 5)"
   ]
  },
  {
   "cell_type": "code",
   "execution_count": 4,
   "id": "c11f8ae2",
   "metadata": {},
   "outputs": [
    {
     "name": "stdout",
     "output_type": "stream",
     "text": [
      "[[1 2 3]\n",
      " [4 5 6]\n",
      " [6 7 8]]\n",
      "(3, 3)\n",
      "2\n"
     ]
    }
   ],
   "source": [
    "arr = np.array([\n",
    "                [1,2,3],\n",
    "                [4,5,6],\n",
    "                [6,7,8]\n",
    "               ])\n",
    "print(arr)\n",
    "print(arr.shape)\n",
    "print(arr.ndim)"
   ]
  },
  {
   "cell_type": "code",
   "execution_count": 5,
   "id": "e1b97816",
   "metadata": {},
   "outputs": [
    {
     "name": "stdout",
     "output_type": "stream",
     "text": [
      "[[1 2 3 4 5 6]\n",
      " [6 5 4 3 2 1]]\n",
      "(2, 6)\n",
      "2\n"
     ]
    }
   ],
   "source": [
    "arr = np.array([\n",
    "                [1,2,3,4,5,6],\n",
    "                [6,5,4,3,2,1]\n",
    "               ])\n",
    "print(arr)\n",
    "print(arr.shape)\n",
    "print(arr.ndim)"
   ]
  },
  {
   "cell_type": "code",
   "execution_count": 6,
   "id": "2b19fad5",
   "metadata": {},
   "outputs": [
    {
     "name": "stdout",
     "output_type": "stream",
     "text": [
      "[[1 2 3]\n",
      " [6 5 4]\n",
      " [8 7 5]\n",
      " [3 4 5]\n",
      " [5 6 8]\n",
      " [3 4 7]]\n",
      "(6, 3)\n",
      "2\n"
     ]
    }
   ],
   "source": [
    "arr = np.array([\n",
    "                [1,2,3],\n",
    "                [6,5,4],\n",
    "                [8,7,5],\n",
    "                [3,4,5],\n",
    "                [5,6,8],\n",
    "                [3,4,7]\n",
    "               ])\n",
    "print(arr)\n",
    "print(arr.shape)\n",
    "print(arr.ndim)"
   ]
  },
  {
   "cell_type": "markdown",
   "id": "a6ed6ae2",
   "metadata": {},
   "source": [
    "3D Array"
   ]
  },
  {
   "cell_type": "code",
   "execution_count": 7,
   "id": "1b8c67b7",
   "metadata": {},
   "outputs": [
    {
     "name": "stdout",
     "output_type": "stream",
     "text": [
      "[[[1 2]\n",
      "  [3 4]]\n",
      "\n",
      " [[4 3]\n",
      "  [3 2]]]\n",
      "<class 'numpy.ndarray'>\n",
      "int32\n",
      "3\n",
      "(2, 2, 2)\n"
     ]
    }
   ],
   "source": [
    "arr=np.array([\n",
    "              [\n",
    "                [1,2],\n",
    "                [3,4]\n",
    "              ],\n",
    "              [\n",
    "                [4,3],\n",
    "                [3,2]\n",
    "              ]\n",
    "             ])\n",
    "print(arr)\n",
    "print(type(arr))\n",
    "print((arr).dtype)\n",
    "print((arr).ndim)  # 3\n",
    "print((arr).shape)  # (2, 2, 2)"
   ]
  },
  {
   "cell_type": "code",
   "execution_count": 8,
   "id": "183c9f45",
   "metadata": {},
   "outputs": [
    {
     "name": "stdout",
     "output_type": "stream",
     "text": [
      "[[[ 1  2  3  4 10]\n",
      "  [ 6  7  8  9 20]\n",
      "  [22 11 23 77 33]\n",
      "  [10 66 22 11 56]]\n",
      "\n",
      " [[10 11 12 13 30]\n",
      "  [14 15 16 17 40]\n",
      "  [18 19 20 21 50]\n",
      "  [22 23 24 25 60]]\n",
      "\n",
      " [[18 19 20 21 50]\n",
      "  [22 23 24 25 60]\n",
      "  [26 27 28 29 70]\n",
      "  [30 31 32 33 80]]]\n",
      "(3, 4, 5)\n"
     ]
    }
   ],
   "source": [
    "arr=np.array([\n",
    "\n",
    "            [\n",
    "\n",
    "                [1,2,3,4,10],\n",
    "\n",
    "                [6,7,8,9,20],\n",
    "\n",
    "                [22,11,23,77,33],\n",
    "\n",
    "                [10,66,22,11,56]\n",
    "\n",
    "            ],\n",
    "\n",
    "            [\n",
    "\n",
    "                [10,11,12,13,30],\n",
    "\n",
    "                [14,15,16,17,40],\n",
    "\n",
    "                [18,19,20,21,50],\n",
    "\n",
    "                [22,23,24,25,60]\n",
    "\n",
    "            ] ,\n",
    "\n",
    "            [\n",
    "\n",
    "                [18,19,20,21,50],\n",
    "\n",
    "                [22,23,24,25,60],\n",
    "\n",
    "                [26,27,28,29,70],\n",
    "\n",
    "                [30,31,32,33,80]\n",
    "\n",
    "            ],\n",
    "\n",
    "          ])\n",
    "\n",
    "print(arr)\n",
    "print((arr.shape))"
   ]
  },
  {
   "cell_type": "markdown",
   "id": "fc0e55be",
   "metadata": {},
   "source": [
    "Higher Dimensional Arrays"
   ]
  },
  {
   "cell_type": "code",
   "execution_count": 23,
   "id": "694ba0f7",
   "metadata": {},
   "outputs": [
    {
     "name": "stdout",
     "output_type": "stream",
     "text": [
      "(1, 1, 1, 1, 1, 1, 1, 1, 1, 1, 1, 1, 1, 1, 1, 1, 1, 1, 1, 1, 1, 1, 1, 1, 1, 1, 1, 1, 1, 1, 1, 3)\n",
      "32 [[[[[[[[[[[[[[[[[[[[[[[[[[[[[[[[1 2 3]]]]]]]]]]]]]]]]]]]]]]]]]]]]]]]]\n"
     ]
    }
   ],
   "source": [
    "# When the array is created, you can define the number of dimensions by using the ndmin argument.\n",
    "\n",
    "arr = np.array([1,2,3],ndmin =32)\n",
    "print(arr.shape)\n",
    "print(arr.ndim,arr)"
   ]
  }
 ],
 "metadata": {
  "kernelspec": {
   "display_name": "Python 3",
   "language": "python",
   "name": "python3"
  },
  "language_info": {
   "codemirror_mode": {
    "name": "ipython",
    "version": 3
   },
   "file_extension": ".py",
   "mimetype": "text/x-python",
   "name": "python",
   "nbconvert_exporter": "python",
   "pygments_lexer": "ipython3",
   "version": "3.13.2"
  }
 },
 "nbformat": 4,
 "nbformat_minor": 5
}
