{
 "cells": [
  {
   "cell_type": "code",
   "execution_count": null,
   "id": "86cbed68",
   "metadata": {},
   "outputs": [],
   "source": [
    "\"\"\"\n",
    "| Category                 | Function           | Description                                    |\n",
    "|--------------------------|--------------------|------------------------------------------------|\n",
    "| Arithmetic               | add()              | Add two arrays element-wise                    |\n",
    "|                          | subtract()         | Subtract arrays element-wise                   |\n",
    "|                          | multiply()         | Multiply arrays element-wise                   |\n",
    "|                          | divide()           | Divide arrays element-wise                     |\n",
    "|                          | mod()              | Return remainder of division                   |\n",
    "|                          | remainder()        | Return remainder of division                   |\n",
    "|                          | divmod()           | Return Quotient-Remainder in order             |\n",
    "|                          | power()            | Raise elements to given power                  |\n",
    "|                          | absolute()         | Calculate positive value                       |\n",
    "|--------------------------|--------------------|------------------------------------------------|\n",
    "| Rounding                 | trunc()            | Truncate decimal numbers                       |\n",
    "|                          | fix()              | Removes decimal part                           |\n",
    "|                          | around()           | Round arrays to given decimals                 |\n",
    "|                          | floor()            | Return lowest closest integer                  |\n",
    "|                          | ceil()             | Return highest closest integer                 |\n",
    "|--------------------------|--------------------|------------------------------------------------|\n",
    "| Logs                     | log2()             | Return log at the base 2                       |\n",
    "|                          | log10()            | Return log at the base 10                      |\n",
    "|                          | log()              | Return log at the base e                       |\n",
    "|--------------------------|--------------------|------------------------------------------------|\n",
    "| Summation                | sum()              | Sum of array elements                          |\n",
    "|                          | cumsum()           | Cumulative sum of array elements               |\n",
    "|--------------------------|--------------------|------------------------------------------------|\n",
    "| Product                  | prod()             | Product of array elements                      |\n",
    "|                          | cumprod()          | Cumulative product of array elements           |\n",
    "|--------------------------|--------------------|------------------------------------------------|\n",
    "| Number Theory            | lcm()              | Compute least common multiple                  |\n",
    "|                          | gcd()              | Compute greatest common divisor                |\n",
    "|--------------------------|--------------------|------------------------------------------------|\n",
    "| Trigonometric            | sin(), cos()       | Compute sine and cosine                        |\n",
    "|                          | tan()              | Compute tangent                                |\n",
    "|                          | arcsin()           | Compute inverse sine                           |\n",
    "|                          | arccos()           | Compute inverse cosine                         |\n",
    "|                          | arctan()           | Compute inverse tangent                        |\n",
    "|--------------------------|--------------------|------------------------------------------------|\n",
    "| Hyperbolic               | sinh(), cosh()     | Compute hyperbolic sine and cosine             |\n",
    "|                          | tanh()             | Compute hyperbolic tangent                     |\n",
    "|                          | arcsinh()          | Compute inverse hyperbolic sine                |\n",
    "|                          | arccosh()          | Compute inverse hyperbolic cosine              |\n",
    "|                          | arctanh()          | Compute inverse hyperbolic tangent             |\n",
    "--------------------------------------------------------------------------------------------------\n",
    "\"\"\""
   ]
  }
 ],
 "metadata": {
  "kernelspec": {
   "display_name": "Python 3",
   "language": "python",
   "name": "python3"
  },
  "language_info": {
   "codemirror_mode": {
    "name": "ipython",
    "version": 3
   },
   "file_extension": ".py",
   "mimetype": "text/x-python",
   "name": "python",
   "nbconvert_exporter": "python",
   "pygments_lexer": "ipython3",
   "version": "3.13.2"
  }
 },
 "nbformat": 4,
 "nbformat_minor": 5
}
