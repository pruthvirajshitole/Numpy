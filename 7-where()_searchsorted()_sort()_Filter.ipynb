{
 "cells": [
  {
   "cell_type": "code",
   "execution_count": 1,
   "metadata": {},
   "outputs": [],
   "source": [
    "import numpy as np"
   ]
  },
  {
   "cell_type": "markdown",
   "metadata": {},
   "source": [
    "where()"
   ]
  },
  {
   "cell_type": "code",
   "execution_count": null,
   "metadata": {},
   "outputs": [],
   "source": [
    "'''\n",
    "\n",
    "You can search an array for a certain value, and return the indexes that get a match.\n",
    "\n",
    "To search an array, use the where() method.\n",
    "\n",
    "'''"
   ]
  },
  {
   "cell_type": "code",
   "execution_count": 18,
   "metadata": {},
   "outputs": [
    {
     "name": "stdout",
     "output_type": "stream",
     "text": [
      "(3,)\n",
      "(5,)\n",
      "(array([3, 5], dtype=int64),)\n"
     ]
    }
   ],
   "source": [
    "arr = np.array([1,2,3,67,5,67,8,9])\n",
    "x = 67\n",
    "\n",
    "for i,j in np.ndenumerate(arr):\n",
    "    if j==x:\n",
    "        print(i)\n",
    "\n",
    "\n",
    "print(np.where(arr==x))"
   ]
  },
  {
   "cell_type": "code",
   "execution_count": 11,
   "metadata": {},
   "outputs": [
    {
     "name": "stdout",
     "output_type": "stream",
     "text": [
      "(array([2, 5]),)\n",
      "(array([], dtype=int64),)\n"
     ]
    }
   ],
   "source": [
    "arr = np.array([1,5,3,7,44,3,4,7])\n",
    "arr1 = np.where(arr == 3)\n",
    "print(arr1)\n",
    "\n",
    "# when the element is not present in that array it will return a blanck array\n",
    "arr2 = np.where(arr == 333)\n",
    "print(arr2)"
   ]
  },
  {
   "cell_type": "code",
   "execution_count": 19,
   "metadata": {},
   "outputs": [
    {
     "name": "stdout",
     "output_type": "stream",
     "text": [
      "(array([1, 6], dtype=int64),)\n",
      "(array([0, 2, 3, 4, 5, 7], dtype=int64),)\n"
     ]
    }
   ],
   "source": [
    "even = np.where(arr%2==0)\n",
    "print(even)\n",
    "\n",
    "odd = np.where(arr%2==1)\n",
    "print(odd)"
   ]
  },
  {
   "cell_type": "markdown",
   "metadata": {},
   "source": [
    "searchsorted()"
   ]
  },
  {
   "cell_type": "code",
   "execution_count": null,
   "metadata": {},
   "outputs": [],
   "source": [
    "'''\n",
    "\n",
    "Search Sorted:\n",
    "\n",
    "There is a method called searchsorted() which performs a binary search in the array, \n",
    "\n",
    "and returns the index where the specified value would be inserted to maintain the search order.\n",
    "\n",
    "The searchsorted() method is assumed to be used on sorted arrays.\n",
    "\n",
    "'''"
   ]
  },
  {
   "cell_type": "code",
   "execution_count": 5,
   "metadata": {},
   "outputs": [
    {
     "name": "stdout",
     "output_type": "stream",
     "text": [
      "1\n"
     ]
    }
   ],
   "source": [
    "arr = np.array([6,8,9])\n",
    "x = np.searchsorted(arr,8)   # by default side='left'\n",
    "print(x)"
   ]
  },
  {
   "cell_type": "code",
   "execution_count": 3,
   "metadata": {},
   "outputs": [
    {
     "name": "stdout",
     "output_type": "stream",
     "text": [
      "4\n"
     ]
    }
   ],
   "source": [
    "arr = np.array([6,7,8,9])\n",
    "x = np.searchsorted(arr,9,side='right')  \n",
    "print(x)"
   ]
  },
  {
   "cell_type": "code",
   "execution_count": null,
   "metadata": {},
   "outputs": [
    {
     "name": "stdout",
     "output_type": "stream",
     "text": [
      "[1 2 0]\n"
     ]
    }
   ],
   "source": [
    "arr = np.array([1,3,5,7])\n",
    "x = np.searchsorted(arr,[2,4,1])\n",
    "print(x)"
   ]
  },
  {
   "cell_type": "code",
   "execution_count": null,
   "metadata": {},
   "outputs": [
    {
     "name": "stdout",
     "output_type": "stream",
     "text": [
      "0\n"
     ]
    }
   ],
   "source": [
    "arr = np.array([6,8,9,2])\n",
    "x = np.searchsorted(arr,3)\n",
    "print(x)\n",
    "\n",
    "# If the array is not sorted it returns random indices"
   ]
  },
  {
   "cell_type": "markdown",
   "metadata": {},
   "source": [
    "sort()"
   ]
  },
  {
   "cell_type": "code",
   "execution_count": 24,
   "metadata": {},
   "outputs": [
    {
     "name": "stdout",
     "output_type": "stream",
     "text": [
      "[ 1  2  3  3  5  6 65]\n"
     ]
    }
   ],
   "source": [
    "# arrange the elements in ordered sequence\n",
    "\n",
    "arr = np.array([1,65,3,5,6,3,2])\n",
    "print(np.sort(arr))"
   ]
  },
  {
   "cell_type": "code",
   "execution_count": 25,
   "metadata": {},
   "outputs": [
    {
     "name": "stdout",
     "output_type": "stream",
     "text": [
      "[65  6  5  3  3  2  1]\n"
     ]
    }
   ],
   "source": [
    "# decending order\n",
    "\n",
    "arr = np.array([1,65,3,5,6,3,2])\n",
    "print((np.sort(arr))[::-1])"
   ]
  },
  {
   "cell_type": "code",
   "execution_count": 26,
   "metadata": {},
   "outputs": [
    {
     "name": "stdout",
     "output_type": "stream",
     "text": [
      "['apple' 'cherry' 'grapes']\n"
     ]
    }
   ],
   "source": [
    "\n",
    "arr = np.array(['apple','grapes','cherry'])\n",
    "print(np.sort(arr))"
   ]
  },
  {
   "cell_type": "code",
   "execution_count": 27,
   "metadata": {},
   "outputs": [
    {
     "name": "stdout",
     "output_type": "stream",
     "text": [
      "[[ 3  4 10]\n",
      " [ 0  1  5]]\n"
     ]
    }
   ],
   "source": [
    "\n",
    "arr = np.array([[10,4,3],[5,0,1]])\n",
    "print(np.sort(arr))"
   ]
  },
  {
   "cell_type": "code",
   "execution_count": null,
   "metadata": {},
   "outputs": [
    {
     "name": "stdout",
     "output_type": "stream",
     "text": [
      "[[ 5  0  1]\n",
      " [10  4  3]]\n"
     ]
    }
   ],
   "source": [
    "arr = np.array([[10,4,3],[5,0,1]])  # operates column wise\n",
    "print(np.sort(arr,axis=0))"
   ]
  },
  {
   "cell_type": "markdown",
   "metadata": {},
   "source": [
    "Filter:"
   ]
  },
  {
   "cell_type": "code",
   "execution_count": null,
   "metadata": {},
   "outputs": [],
   "source": [
    "# Getting some elements out of an existing array and creating a new array out of them is called filtering"
   ]
  },
  {
   "cell_type": "code",
   "execution_count": null,
   "metadata": {},
   "outputs": [
    {
     "name": "stdout",
     "output_type": "stream",
     "text": [
      "[41 43]\n"
     ]
    }
   ],
   "source": [
    "# fetching values at index 0 and 2\n",
    "arr = np.array([41, 42, 43, 44])\n",
    "x = [True, False, True, False]\n",
    "newarr = arr[x]\n",
    "print(newarr)"
   ]
  },
  {
   "cell_type": "code",
   "execution_count": 6,
   "metadata": {},
   "outputs": [
    {
     "name": "stdout",
     "output_type": "stream",
     "text": [
      "[4 6 4 7 8]\n",
      "[2 4 6 4 8]\n",
      "[False  True  True  True  True False  True]\n"
     ]
    }
   ],
   "source": [
    "arr = np.array([1,2,4,6,4,7,8])\n",
    "f = arr>3\n",
    "print(arr[f])\n",
    "\n",
    "even = arr%2==0\n",
    "print(arr[even])\n",
    "\n",
    "print(even)"
   ]
  },
  {
   "cell_type": "markdown",
   "metadata": {},
   "source": [
    "Alpha-2025"
   ]
  },
  {
   "cell_type": "code",
   "execution_count": null,
   "metadata": {},
   "outputs": [
    {
     "name": "stdout",
     "output_type": "stream",
     "text": [
      "43\n",
      "44\n",
      "[43 44]\n"
     ]
    }
   ],
   "source": [
    "# Getting some elements out of an existing array and creating a new array out of them is called filtering.\n",
    "\n",
    "arr = np.array([41, 42, 43, 44])\n",
    "\n",
    "# Find the element greater than 42\n",
    "\n",
    "arr2 = np.where(arr>42)\n",
    "for i in np.nditer(arr2):\n",
    "    print(arr[i])\n",
    "\n",
    "\n",
    "# using filtering\n",
    "\n",
    "x = arr>42\n",
    "arr1 = arr[x]\n",
    "print(arr1)\n"
   ]
  }
 ],
 "metadata": {
  "kernelspec": {
   "display_name": "Python 3",
   "language": "python",
   "name": "python3"
  },
  "language_info": {
   "codemirror_mode": {
    "name": "ipython",
    "version": 3
   },
   "file_extension": ".py",
   "mimetype": "text/x-python",
   "name": "python",
   "nbconvert_exporter": "python",
   "pygments_lexer": "ipython3",
   "version": "3.13.2"
  }
 },
 "nbformat": 4,
 "nbformat_minor": 2
}
