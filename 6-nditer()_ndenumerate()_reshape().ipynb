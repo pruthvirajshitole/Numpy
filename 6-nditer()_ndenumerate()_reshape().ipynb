{
 "cells": [
  {
   "cell_type": "code",
   "execution_count": 1,
   "metadata": {},
   "outputs": [],
   "source": [
    "import numpy as np"
   ]
  },
  {
   "cell_type": "code",
   "execution_count": 3,
   "metadata": {},
   "outputs": [
    {
     "data": {
      "text/plain": [
       "(3, 3, 3)"
      ]
     },
     "execution_count": 3,
     "metadata": {},
     "output_type": "execute_result"
    }
   ],
   "source": [
    "arr = np.array([\n",
    "    [\n",
    "        [1,2,3],\n",
    "        [4,5,6],\n",
    "        [7,8,9]\n",
    "    ],\n",
    "    [\n",
    "        [10,11,12],\n",
    "        [13,14,15],\n",
    "        [16,17,18]\n",
    "    ],\n",
    "    [\n",
    "        [19,20,21],\n",
    "        [22,23,24],\n",
    "        [25,26,27]\n",
    "    ],\n",
    "])\n",
    "arr.shape"
   ]
  },
  {
   "cell_type": "markdown",
   "metadata": {},
   "source": [
    "nditer()"
   ]
  },
  {
   "cell_type": "code",
   "execution_count": 3,
   "metadata": {},
   "outputs": [
    {
     "name": "stdout",
     "output_type": "stream",
     "text": [
      "10\n",
      "11\n",
      "12\n",
      "13\n",
      "14\n",
      "15\n",
      "16\n",
      "17\n",
      "18\n"
     ]
    }
   ],
   "source": [
    "# same as above nested for loops.\n",
    "for i in np.nditer(arr[1]):\n",
    "    print(i)"
   ]
  },
  {
   "cell_type": "markdown",
   "metadata": {},
   "source": [
    "ndenumerate()"
   ]
  },
  {
   "cell_type": "code",
   "execution_count": 5,
   "metadata": {},
   "outputs": [
    {
     "name": "stdout",
     "output_type": "stream",
     "text": [
      "(0, 0, 0) : 1\n",
      "(0, 0, 1) : 2\n",
      "(0, 0, 2) : 3\n",
      "(0, 1, 0) : 4\n",
      "(0, 1, 1) : 5\n",
      "(0, 1, 2) : 6\n",
      "(0, 2, 0) : 7\n",
      "(0, 2, 1) : 8\n",
      "(0, 2, 2) : 9\n",
      "(1, 0, 0) : 10\n",
      "(1, 0, 1) : 11\n",
      "(1, 0, 2) : 12\n",
      "(1, 1, 0) : 13\n",
      "(1, 1, 1) : 14\n",
      "(1, 1, 2) : 15\n",
      "(1, 2, 0) : 16\n",
      "(1, 2, 1) : 17\n",
      "(1, 2, 2) : 18\n",
      "(2, 0, 0) : 19\n",
      "(2, 0, 1) : 20\n",
      "(2, 0, 2) : 21\n",
      "(2, 1, 0) : 22\n",
      "(2, 1, 1) : 23\n",
      "(2, 1, 2) : 24\n",
      "(2, 2, 0) : 25\n",
      "(2, 2, 1) : 26\n",
      "(2, 2, 2) : 27\n"
     ]
    }
   ],
   "source": [
    "for i,j in np.ndenumerate(arr):\n",
    "    print(i,':',j)"
   ]
  },
  {
   "cell_type": "code",
   "execution_count": 8,
   "metadata": {},
   "outputs": [
    {
     "name": "stdout",
     "output_type": "stream",
     "text": [
      "(0,) : 1\n",
      "(1,) : 2\n",
      "(2,) : 3\n",
      "(3,) : 4\n",
      "(4,) : 5\n",
      "(5,) : 6\n"
     ]
    }
   ],
   "source": [
    "arr = np.array([1,2,3,4,5,6])\n",
    "for i,j in np.ndenumerate(arr):\n",
    "    print(i,':',j)"
   ]
  },
  {
   "cell_type": "code",
   "execution_count": 14,
   "metadata": {},
   "outputs": [
    {
     "name": "stdout",
     "output_type": "stream",
     "text": [
      "() : 99\n"
     ]
    }
   ],
   "source": [
    "arr = np.array(99)\n",
    "for i,j in np.ndenumerate(arr):\n",
    "    print(i,':',j)"
   ]
  },
  {
   "cell_type": "markdown",
   "metadata": {},
   "source": [
    "reshape()"
   ]
  },
  {
   "cell_type": "code",
   "execution_count": null,
   "metadata": {},
   "outputs": [],
   "source": [
    "'''\n",
    "\n",
    "Reshaping means changing the shape of an array.\n",
    "\n",
    "The shape of an array is the number of elements in each dimension.\n",
    "\n",
    "By reshaping we can add or remove dimensions or change number of elements in each dimension.\n",
    "\n",
    "'''"
   ]
  },
  {
   "cell_type": "code",
   "execution_count": 7,
   "metadata": {},
   "outputs": [
    {
     "data": {
      "text/plain": [
       "array([[1, 2],\n",
       "       [3, 4],\n",
       "       [5, 6],\n",
       "       [7, 8]])"
      ]
     },
     "execution_count": 7,
     "metadata": {},
     "output_type": "execute_result"
    }
   ],
   "source": [
    "arr = np.array([1,2,3,4,5,6,7,8])\n",
    "arr1 = arr.reshape(4,2)\n",
    "arr1"
   ]
  },
  {
   "cell_type": "code",
   "execution_count": 18,
   "metadata": {},
   "outputs": [
    {
     "name": "stdout",
     "output_type": "stream",
     "text": [
      "------reshaping into 2D array------\n",
      "[[ 1  2]\n",
      " [ 3  4]\n",
      " [ 5  6]\n",
      " [ 7  8]\n",
      " [ 9 10]\n",
      " [11 12]]\n",
      "[[ 1  2  3  4  5  6]\n",
      " [ 7  8  9 10 11 12]]\n",
      "[[ 1]\n",
      " [ 2]\n",
      " [ 3]\n",
      " [ 4]\n",
      " [ 5]\n",
      " [ 6]\n",
      " [ 7]\n",
      " [ 8]\n",
      " [ 9]\n",
      " [10]\n",
      " [11]\n",
      " [12]]\n",
      "[[ 1  2  3]\n",
      " [ 4  5  6]\n",
      " [ 7  8  9]\n",
      " [10 11 12]]\n"
     ]
    }
   ],
   "source": [
    "arr = np.array([1,2,3,4,5,6,7,8,9,10,11,12])\n",
    "\n",
    "print('------reshaping into 2D array------')\n",
    "arr1 = arr.reshape(6,2)\n",
    "print(arr1)\n",
    "\n",
    "arr1 = arr.reshape(2,6)\n",
    "print(arr1)\n",
    "\n",
    "arr1 = arr.reshape(12,1)\n",
    "print(arr1)\n",
    "\n",
    "arr1 = arr.reshape(4,3)\n",
    "print(arr1)"
   ]
  },
  {
   "cell_type": "code",
   "execution_count": 21,
   "metadata": {},
   "outputs": [
    {
     "name": "stdout",
     "output_type": "stream",
     "text": [
      "------reshaping into 3D array------\n",
      "[[[ 1  2  3]\n",
      "  [ 4  5  6]]\n",
      "\n",
      " [[ 7  8  9]\n",
      "  [10 11 12]]]\n",
      "[[[ 1  2]\n",
      "  [ 3  4]]\n",
      "\n",
      " [[ 5  6]\n",
      "  [ 7  8]]\n",
      "\n",
      " [[ 9 10]\n",
      "  [11 12]]]\n"
     ]
    }
   ],
   "source": [
    "print('------reshaping into 3D array------')\n",
    "\n",
    "arr1 = arr.reshape(2,2,3)\n",
    "print(arr1)\n",
    "\n",
    "arr1 = arr.reshape(3,2,2)\n",
    "print(arr1)"
   ]
  },
  {
   "cell_type": "markdown",
   "metadata": {},
   "source": [
    "Unknown dimension"
   ]
  },
  {
   "cell_type": "code",
   "execution_count": 21,
   "metadata": {},
   "outputs": [
    {
     "name": "stdout",
     "output_type": "stream",
     "text": [
      "[[[ 1  2]\n",
      "  [ 3  4]]\n",
      "\n",
      " [[ 5  6]\n",
      "  [ 7  8]]\n",
      "\n",
      " [[ 9 10]\n",
      "  [11 12]]]\n"
     ]
    }
   ],
   "source": [
    "arr = np.array([1,2,3,4,5,6,7,8,9,10,11,12])\n",
    "\n",
    "print(arr.reshape(3,2,-1))"
   ]
  },
  {
   "cell_type": "code",
   "execution_count": null,
   "metadata": {},
   "outputs": [
    {
     "name": "stdout",
     "output_type": "stream",
     "text": [
      "[[[ 1  2  3]\n",
      "  [ 4  5  6]]\n",
      "\n",
      " [[ 7  8  9]\n",
      "  [10 11 12]]]\n"
     ]
    }
   ],
   "source": [
    "arr = np.array([1,2,3,4,5,6,7,8,9,10,11,12])\n",
    "arr1 = arr.reshape(2,-1,3)     # if you give multiple -1: can only specify one unknown dimension\n",
    "print(arr1)"
   ]
  },
  {
   "cell_type": "code",
   "execution_count": null,
   "metadata": {},
   "outputs": [
    {
     "name": "stdout",
     "output_type": "stream",
     "text": [
      "[ 1  1  3  4  5  6  7  8  9 10 11 12]\n"
     ]
    }
   ],
   "source": [
    "# Flattening the array\n",
    "arr = np.array([\n",
    "                [\n",
    "                    [ 1,  1],\n",
    "                    [ 3,  4]\n",
    "                ],\n",
    "                [\n",
    "                    [ 5,  6],\n",
    "                    [ 7,  8]\n",
    "                ],\n",
    "                [\n",
    "                    [ 9, 10],\n",
    "                    [11, 12]\n",
    "                ]\n",
    "               ])\n",
    "print(arr.reshape(-1))  # converts to 1D array"
   ]
  },
  {
   "cell_type": "markdown",
   "metadata": {},
   "source": [
    "Alpha-2025"
   ]
  },
  {
   "cell_type": "code",
   "execution_count": null,
   "metadata": {},
   "outputs": [
    {
     "name": "stdout",
     "output_type": "stream",
     "text": [
      "[[1]\n",
      " [2]\n",
      " [3]\n",
      " [4]\n",
      " [5]\n",
      " [6]\n",
      " [7]\n",
      " [8]\n",
      " [9]]\n",
      "------------------------\n",
      "[[1 2 3]\n",
      " [4 5 6]\n",
      " [7 8 9]]\n",
      "------------------------\n",
      "[[[1]\n",
      "  [2]\n",
      "  [3]\n",
      "  [4]\n",
      "  [5]\n",
      "  [6]\n",
      "  [7]\n",
      "  [8]\n",
      "  [9]]]\n"
     ]
    },
    {
     "data": {
      "text/plain": [
       "array([[1, 2, 3],\n",
       "       [4, 5, 6],\n",
       "       [7, 8, 9]])"
      ]
     },
     "execution_count": 6,
     "metadata": {},
     "output_type": "execute_result"
    }
   ],
   "source": [
    "arr = np.array([1,2,3,4,5,6,7,8,9])\n",
    "\n",
    "arr1 = arr.reshape(9,1)\n",
    "print(arr1)\n",
    "\n",
    "print('------------------------')\n",
    "arr2 = arr.reshape(3,3)\n",
    "print(arr2)\n",
    "\n",
    "print('------------------------')\n",
    "arr3 = arr.reshape(1,9,1)\n",
    "print(arr3)\n"
   ]
  },
  {
   "cell_type": "code",
   "execution_count": 5,
   "metadata": {},
   "outputs": [
    {
     "name": "stdout",
     "output_type": "stream",
     "text": [
      "[[[1]\n",
      "  [2]\n",
      "  [3]]\n",
      "\n",
      " [[4]\n",
      "  [5]\n",
      "  [6]]\n",
      "\n",
      " [[7]\n",
      "  [8]\n",
      "  [9]]]\n",
      "--------------10-D--------------\n",
      "[[[[[[[[[[1 2 3]]]\n",
      "\n",
      "\n",
      "       [[[4 5 6]]]\n",
      "\n",
      "\n",
      "       [[[7 8 9]]]]]]]]]]\n"
     ]
    }
   ],
   "source": [
    "arr4 = arr.reshape(3,3,1)\n",
    "print(arr4)\n",
    "\n",
    "print('--------------10-D--------------')\n",
    "arr5 = arr.reshape(1,1,1,1,1,1,3,1,1,3)  # 10D\n",
    "print(arr5)\n"
   ]
  },
  {
   "cell_type": "code",
   "execution_count": null,
   "metadata": {},
   "outputs": [
    {
     "name": "stdout",
     "output_type": "stream",
     "text": [
      "<class 'list'> [1, 2, 3, 4, 5, 6, 7, 8, 9]\n",
      "<class 'numpy.ndarray'> [1 2 3 4 5 6 7 8 9]\n"
     ]
    },
    {
     "data": {
      "text/plain": [
       "array([1, 2, 3, 4, 5, 6, 7, 8, 9])"
      ]
     },
     "execution_count": 10,
     "metadata": {},
     "output_type": "execute_result"
    }
   ],
   "source": [
    "# flattening array without using reshape function\n",
    "\n",
    "arr = np.array([[1, 2, 3],\n",
    "       [4, 5, 6],\n",
    "       [7, 8, 9]])\n",
    "\n",
    "l = []\n",
    "for i in np.nditer(arr):\n",
    "    l.append(int(i))\n",
    "\n",
    "print(type(l),l)\n",
    "\n",
    "arr = np.array(l)\n",
    "print(type(arr),arr)\n",
    "arr"
   ]
  }
 ],
 "metadata": {
  "kernelspec": {
   "display_name": "Python 3",
   "language": "python",
   "name": "python3"
  },
  "language_info": {
   "codemirror_mode": {
    "name": "ipython",
    "version": 3
   },
   "file_extension": ".py",
   "mimetype": "text/x-python",
   "name": "python",
   "nbconvert_exporter": "python",
   "pygments_lexer": "ipython3",
   "version": "3.13.2"
  }
 },
 "nbformat": 4,
 "nbformat_minor": 2
}
