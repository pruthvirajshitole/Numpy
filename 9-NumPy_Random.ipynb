{
 "cells": [
  {
   "cell_type": "code",
   "execution_count": null,
   "metadata": {},
   "outputs": [],
   "source": [
    "# NumPy offers the random module to work with random numbers.\n",
    "import numpy as np\n",
    "from numpy import random"
   ]
  },
  {
   "cell_type": "markdown",
   "metadata": {},
   "source": [
    "Random:"
   ]
  },
  {
   "cell_type": "code",
   "execution_count": null,
   "metadata": {},
   "outputs": [],
   "source": [
    "# Random number does NOT mean a different number every time. Random means something that can not be predicted logically."
   ]
  },
  {
   "cell_type": "markdown",
   "metadata": {},
   "source": [
    "randint()"
   ]
  },
  {
   "cell_type": "code",
   "execution_count": 12,
   "metadata": {},
   "outputs": [
    {
     "data": {
      "text/plain": [
       "4"
      ]
     },
     "execution_count": 12,
     "metadata": {},
     "output_type": "execute_result"
    }
   ],
   "source": [
    "x = random.randint(10)\n",
    "x"
   ]
  },
  {
   "cell_type": "code",
   "execution_count": 33,
   "metadata": {},
   "outputs": [
    {
     "data": {
      "text/plain": [
       "9"
      ]
     },
     "execution_count": 33,
     "metadata": {},
     "output_type": "execute_result"
    }
   ],
   "source": [
    "x = random.randint(8,10)\n",
    "x"
   ]
  },
  {
   "cell_type": "markdown",
   "metadata": {},
   "source": [
    "random.rand()"
   ]
  },
  {
   "cell_type": "code",
   "execution_count": 84,
   "metadata": {},
   "outputs": [
    {
     "data": {
      "text/plain": [
       "0.7295511337938502"
      ]
     },
     "execution_count": 84,
     "metadata": {},
     "output_type": "execute_result"
    }
   ],
   "source": [
    "# The random module's rand() method returns a random float between 0 and 1\n",
    "x = random.rand()\n",
    "x"
   ]
  },
  {
   "cell_type": "code",
   "execution_count": 101,
   "metadata": {},
   "outputs": [
    {
     "name": "stdout",
     "output_type": "stream",
     "text": [
      "--------Ex-1----------\n",
      "[0.20200126 0.89548992 0.76714138]\n",
      "--------Ex-2----------\n",
      "[[0.42638893 0.8788172  0.26953155 0.59483975]\n",
      " [0.34735466 0.80725767 0.62390839 0.15596675]\n",
      " [0.18293688 0.98504729 0.99878725 0.78267706]]\n"
     ]
    },
    {
     "data": {
      "text/plain": [
       "(3, 4)"
      ]
     },
     "execution_count": 101,
     "metadata": {},
     "output_type": "execute_result"
    }
   ],
   "source": [
    "# The rand() method also allows you to specify the shape of the array.\n",
    "\n",
    "print('--------Ex-1----------')\n",
    "x = random.rand(3)\n",
    "print(x)\n",
    "\n",
    "print('--------Ex-2----------')\n",
    "x = random.rand(3,4)\n",
    "print(x)\n",
    "x.shape"
   ]
  },
  {
   "cell_type": "code",
   "execution_count": 92,
   "metadata": {},
   "outputs": [
    {
     "name": "stdout",
     "output_type": "stream",
     "text": [
      "[13 18 39 11 72 16 18 23 89 21]\n"
     ]
    }
   ],
   "source": [
    "# The randint() method takes a size parameter where you can specify the shape of an array.\n",
    "x=random.randint(100, size=(10))\n",
    "print(x)"
   ]
  },
  {
   "cell_type": "code",
   "execution_count": 96,
   "metadata": {},
   "outputs": [
    {
     "name": "stdout",
     "output_type": "stream",
     "text": [
      "[[60 82  2  7 98]\n",
      " [72  1 68 48 63]\n",
      " [16 28  4 95 85]]\n"
     ]
    },
    {
     "data": {
      "text/plain": [
       "(3, 5)"
      ]
     },
     "execution_count": 96,
     "metadata": {},
     "output_type": "execute_result"
    }
   ],
   "source": [
    "x = random.randint(100, size=(3, 5))\n",
    "print(x)\n",
    "x.shape"
   ]
  },
  {
   "cell_type": "code",
   "execution_count": 7,
   "metadata": {},
   "outputs": [
    {
     "name": "stdout",
     "output_type": "stream",
     "text": [
      "You have 3 attempts!!!\n",
      "You lost the game.\n",
      "You have 2 attempts!!!\n",
      "You won the game.\n"
     ]
    }
   ],
   "source": [
    "x = random.randint(10)\n",
    "n=1\n",
    "while n<=3:\n",
    "    print(f'You have {4-n} attempts!!!')\n",
    "    num = int(input(\"Enter a number: \"))\n",
    "    if x==num:\n",
    "        print('You won the game.')\n",
    "        break\n",
    "    else:\n",
    "        print('You lost the game.')\n",
    "    n+=1"
   ]
  },
  {
   "cell_type": "markdown",
   "metadata": {},
   "source": [
    "Generate Random Number From Array:"
   ]
  },
  {
   "cell_type": "code",
   "execution_count": 70,
   "metadata": {},
   "outputs": [
    {
     "name": "stdout",
     "output_type": "stream",
     "text": [
      "3\n",
      "[5 7 7 7 5 3 9 3 7]\n"
     ]
    }
   ],
   "source": [
    "# The choice() method allows you to generate a random value based on an array of values.\n",
    "# The choice() method takes an array as a parameter and randomly returns one of the values.\n",
    "\n",
    "x = random.choice([3, 5, 7, 9])\n",
    "print(x)\n",
    "x = random.choice([3, 5, 7, 9],9)\n",
    "print(x)"
   ]
  },
  {
   "cell_type": "code",
   "execution_count": 72,
   "metadata": {},
   "outputs": [
    {
     "name": "stdout",
     "output_type": "stream",
     "text": [
      "[[5 9 3 9 9]\n",
      " [5 9 9 9 5]\n",
      " [3 7 3 7 5]]\n"
     ]
    }
   ],
   "source": [
    "# The choice() method also allows you to return an array of values.\n",
    "# Add a size parameter to specify the shape of the array.\n",
    "\n",
    "x = random.choice([3, 5, 7, 9], size=(3, 5))\n",
    "print(x)"
   ]
  },
  {
   "cell_type": "markdown",
   "metadata": {},
   "source": [
    "Uniform Distribution:"
   ]
  },
  {
   "cell_type": "code",
   "execution_count": null,
   "metadata": {},
   "outputs": [],
   "source": [
    "'''\n",
    "Used to describe probability where every event has equal chances of occuring.\n",
    "E.g. Generation of random numbers.\n",
    "It has three parameters:\n",
    "low - lower bound - default 0.0\n",
    "high - upper bound - default 1.0\n",
    "size - The shape of the returned array.\n",
    "\n",
    "'''"
   ]
  },
  {
   "cell_type": "code",
   "execution_count": 57,
   "metadata": {},
   "outputs": [
    {
     "name": "stdout",
     "output_type": "stream",
     "text": [
      "[2.50331571 1.14607574 2.24769193 2.8588534  2.9783083 ]\n"
     ]
    }
   ],
   "source": [
    "x = random.uniform(1,3,5)  # uniform(low,high,size)\n",
    "print(x)"
   ]
  },
  {
   "cell_type": "code",
   "execution_count": 118,
   "metadata": {},
   "outputs": [
    {
     "name": "stdout",
     "output_type": "stream",
     "text": [
      "[[0.26142747 0.33397519 0.62541342]\n",
      " [0.23327887 0.73971982 0.29249189]]\n"
     ]
    }
   ],
   "source": [
    "x = random.uniform(size=(2, 3))\n",
    "print(x)"
   ]
  },
  {
   "cell_type": "markdown",
   "metadata": {},
   "source": [
    "Shuffling Arrays:"
   ]
  },
  {
   "cell_type": "code",
   "execution_count": 74,
   "metadata": {},
   "outputs": [
    {
     "name": "stdout",
     "output_type": "stream",
     "text": [
      "[5 1 4 3 2]\n"
     ]
    }
   ],
   "source": [
    "# The shuffle() method makes changes to the original array.\n",
    "\n",
    "arr = np.array([1, 2, 3, 4, 5])\n",
    "random.shuffle(arr)\n",
    "print(arr)"
   ]
  },
  {
   "cell_type": "code",
   "execution_count": 101,
   "metadata": {},
   "outputs": [
    {
     "name": "stdout",
     "output_type": "stream",
     "text": [
      "[2 2]\n",
      "[3 5 5 5 5 2 3 1]\n",
      "[1 3 5]\n",
      "['1'] <class 'numpy.ndarray'>\n"
     ]
    }
   ],
   "source": [
    "# Sampling\n",
    "\n",
    "arr = np.array([1,2,3,4,5])\n",
    "x = np.random.choice(arr,2)\n",
    "print(x)\n",
    "\n",
    "# Sample with replace\n",
    "arr = np.array([1,2,3,4,5])\n",
    "x = np.random.choice(arr,8,replace=True)  # defualt\n",
    "print(x)\n",
    "\n",
    "z = np.random.choice(arr,3,replace=False)  # elements repitation not allowed\n",
    "print(z)\n",
    "\n",
    "l = [1,2.3,'abc']\n",
    "k = np.random.choice(l,1)\n",
    "print(k,type(k))"
   ]
  }
 ],
 "metadata": {
  "kernelspec": {
   "display_name": "Python 3",
   "language": "python",
   "name": "python3"
  },
  "language_info": {
   "codemirror_mode": {
    "name": "ipython",
    "version": 3
   },
   "file_extension": ".py",
   "mimetype": "text/x-python",
   "name": "python",
   "nbconvert_exporter": "python",
   "pygments_lexer": "ipython3",
   "version": "3.13.2"
  }
 },
 "nbformat": 4,
 "nbformat_minor": 2
}
