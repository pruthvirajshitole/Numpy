{
 "cells": [
  {
   "cell_type": "markdown",
   "metadata": {},
   "source": [
    "Slicing:"
   ]
  },
  {
   "cell_type": "markdown",
   "metadata": {},
   "source": [
    "2D-arrays slicing"
   ]
  },
  {
   "cell_type": "code",
   "execution_count": 1,
   "metadata": {},
   "outputs": [],
   "source": [
    "import numpy as np"
   ]
  },
  {
   "cell_type": "code",
   "execution_count": 2,
   "metadata": {},
   "outputs": [
    {
     "name": "stdout",
     "output_type": "stream",
     "text": [
      "[45 76 34 34]\n",
      "76\n",
      "34\n",
      "[76 34]\n",
      "[45 76 34 34]\n",
      "[34 34]\n"
     ]
    }
   ],
   "source": [
    "arr = np.array([\n",
    "    [77,44,66,83],\n",
    "    [45,76,34,34]\n",
    "])\n",
    "print(arr[1])\n",
    "print(arr[1][-3])\n",
    "print(arr[1][2])\n",
    "print(arr[1][1::2])\n",
    "print(arr[-1])\n",
    "print(arr[-1][-2:])"
   ]
  },
  {
   "cell_type": "code",
   "execution_count": 3,
   "metadata": {},
   "outputs": [
    {
     "name": "stdout",
     "output_type": "stream",
     "text": [
      "[[11 22]\n",
      " [21 31]]\n",
      "[[22 33]\n",
      " [66 77]]\n",
      "[[21 51]\n",
      " [55 88]]\n"
     ]
    }
   ],
   "source": [
    "arr = np.array([\n",
    "    [11,22,33,44],\n",
    "    [21,31,41,51],\n",
    "    [55,66,77,88]\n",
    "])\n",
    "\n",
    "'''\n",
    "[[11 22]\n",
    " [21 31]]\n",
    "'''\n",
    "print(arr[:2,:2])  # [start_row_index:end_row_index,start_column_index:end_column_index]\n",
    "\n",
    "'''\n",
    "[[22 33]\n",
    " [66 77]]\n",
    "'''\n",
    "print(arr[::2,1:3])\n",
    "\n",
    "'''\n",
    "[[21 51]\n",
    " [55 88]]\n",
    "'''\n",
    "print(arr[1:,::3])"
   ]
  },
  {
   "cell_type": "code",
   "execution_count": 4,
   "metadata": {},
   "outputs": [
    {
     "name": "stdout",
     "output_type": "stream",
     "text": [
      "[[21 41]]\n",
      "[21 41]\n"
     ]
    }
   ],
   "source": [
    "arr = np.array([\n",
    "    [11,22,33],\n",
    "    [21,31,41],\n",
    "    [55,66,77]\n",
    "])\n",
    "print(arr[1:2,::2])  #[[21 41]]\n",
    "\n",
    "print(arr[1,::2])"
   ]
  },
  {
   "cell_type": "code",
   "execution_count": 5,
   "metadata": {},
   "outputs": [
    {
     "name": "stdout",
     "output_type": "stream",
     "text": [
      "[2 9]\n",
      "[1 8]\n",
      "[1 5 9]\n",
      "[1 9]\n",
      "[3 4]\n",
      "[3 7]\n"
     ]
    }
   ],
   "source": [
    "arr2d = np.array([\n",
    "    [1,2,3],\n",
    "    [4,5,6],\n",
    "    [7,8,9]\n",
    "])\n",
    "print(arr2d[[0,2],[1,2]])  # [2,9]  # (0,1):2 (2,2):9\n",
    "\n",
    "print(arr2d[[0,2],[0,1]])  # [1 8]\n",
    "\n",
    "print(arr2d[[0,1,2],[0,1,2]])  # [1 5 9]\n",
    "\n",
    "print(arr2d[[0,2],[0,2]]) # [1 9]\n",
    "\n",
    "print(arr2d[[0,1],[2,0]])  # [3 4]\n",
    "\n",
    "print(arr2d[[0,2],[2,0]])  # [3 7]"
   ]
  },
  {
   "cell_type": "markdown",
   "metadata": {},
   "source": [
    "3D-array slicing"
   ]
  },
  {
   "cell_type": "code",
   "execution_count": 30,
   "metadata": {},
   "outputs": [
    {
     "name": "stdout",
     "output_type": "stream",
     "text": [
      "(3, 3, 3)\n"
     ]
    }
   ],
   "source": [
    "arr_3d = np.array([\n",
    "    [\n",
    "        [1,2,3],\n",
    "        [4,5,6],\n",
    "        [7,8,9]\n",
    "    ],\n",
    "    [\n",
    "        [10,11,12],\n",
    "        [13,14,15],\n",
    "        [16,17,18]   \n",
    "    ],\n",
    "    [\n",
    "        [19,20,21],\n",
    "        [22,23,24],\n",
    "        [25,26,27]\n",
    "    ]\n",
    "\n",
    "])\n",
    "\n",
    "print(arr_3d.shape)"
   ]
  },
  {
   "cell_type": "code",
   "execution_count": null,
   "metadata": {},
   "outputs": [
    {
     "name": "stdout",
     "output_type": "stream",
     "text": [
      "[[1 2 3]\n",
      " [4 5 6]\n",
      " [7 8 9]]\n",
      "[[10 11 12]\n",
      " [13 14 15]\n",
      " [16 17 18]]\n",
      "[[19 20 21]\n",
      " [22 23 24]\n",
      " [25 26 27]]\n"
     ]
    }
   ],
   "source": [
    "# slicing 2D arrays from 3D array\n",
    "print(arr_3d[0])\n",
    "print(arr_3d[-2])\n",
    "print(arr_3d[2])"
   ]
  },
  {
   "cell_type": "code",
   "execution_count": null,
   "metadata": {},
   "outputs": [
    {
     "name": "stdout",
     "output_type": "stream",
     "text": [
      "[7 8 9]\n",
      "[4 5 6]\n",
      "[1 2 3]\n"
     ]
    }
   ],
   "source": [
    "# slicing 1D arrays from 3D array\n",
    "print(arr_3d[0][-1])\n",
    "print(arr_3d[0][1])\n",
    "print(arr_3d[0][0])"
   ]
  },
  {
   "cell_type": "code",
   "execution_count": 31,
   "metadata": {},
   "outputs": [
    {
     "name": "stdout",
     "output_type": "stream",
     "text": [
      "1\n",
      "3\n",
      "2\n"
     ]
    }
   ],
   "source": [
    "# slicing elements arrays from 3D array\n",
    "print(arr_3d[0][0][0])\n",
    "print(arr_3d[0][0][-1])\n",
    "print(arr_3d[0][0][1])"
   ]
  },
  {
   "cell_type": "code",
   "execution_count": 10,
   "metadata": {},
   "outputs": [
    {
     "name": "stdout",
     "output_type": "stream",
     "text": [
      "[[[1 3]]]\n",
      "[[[ 1  3]]\n",
      "\n",
      " [[10 12]]]\n",
      "[[1 3]\n",
      " [7 9]]\n"
     ]
    }
   ],
   "source": [
    "'''\n",
    " [[1 2 3]\n",
    " [4 5 6]\n",
    " [7 8 9]]\n",
    "[[10 11 12]\n",
    " [13 14 15]\n",
    " [16 17 18]]\n",
    "[[19 20 21]\n",
    " [22 23 24]\n",
    " [25 26 27]]\n",
    "'''\n",
    "\n",
    "print(arr_3d[:1,:1,::2])  # [[[1 3]]]\n",
    "\n",
    "\n",
    "'''\n",
    "[\n",
    " [ [1,3] ]\n",
    " [ [10,12] ]\n",
    "]\n",
    "'''\n",
    "print(arr_3d[:2,0:1,::2])\n",
    "\n",
    "\n",
    "'''\n",
    "[[1 3]\n",
    " [7 9]]\n",
    "'''\n",
    "print(arr_3d[0,::2,::2])"
   ]
  },
  {
   "cell_type": "code",
   "execution_count": 11,
   "metadata": {},
   "outputs": [
    {
     "name": "stdout",
     "output_type": "stream",
     "text": [
      "[ 2 15 25]\n"
     ]
    }
   ],
   "source": [
    "print(arr_3d[[0,1,2],[0,1,2],[1,2,0]])   # [2 15 25]"
   ]
  },
  {
   "cell_type": "code",
   "execution_count": 12,
   "metadata": {},
   "outputs": [
    {
     "name": "stdout",
     "output_type": "stream",
     "text": [
      "[[[1 3]]]\n",
      "[[[ 1  3]]\n",
      "\n",
      " [[10 12]]]\n",
      "[[1 3]\n",
      " [7 9]]\n"
     ]
    }
   ],
   "source": [
    "'''\n",
    "[[1 2 3]\n",
    " [4 5 6]\n",
    " [7 8 9]]\n",
    "[[10 11 12]\n",
    " [13 14 15]\n",
    " [16 17 18]]\n",
    "[[19 20 21]\n",
    " [22 23 24]\n",
    " [25 26 27]]\n",
    "'''\n",
    "\n",
    "print(arr_3d[:1,:1,::2])  # [[[1 3]]]\n",
    "\n",
    "\n",
    "'''\n",
    "[\n",
    " [ [1,3] ]\n",
    " [ [10,12] ]\n",
    "]\n",
    "'''\n",
    "print(arr_3d[:2,0:1,::2])\n",
    "\n",
    "\n",
    "'''\n",
    "[[1 3]\n",
    " [7 9]]\n",
    "'''\n",
    "print(arr_3d[0,::2,::2])"
   ]
  },
  {
   "cell_type": "code",
   "execution_count": 13,
   "metadata": {},
   "outputs": [
    {
     "name": "stdout",
     "output_type": "stream",
     "text": [
      "[ 2 17 27]\n"
     ]
    }
   ],
   "source": [
    "print(arr_3d[[0,1,2],[0,2,2],[1,1,2]])  # [ 2 17 27]"
   ]
  },
  {
   "cell_type": "code",
   "execution_count": 2,
   "metadata": {},
   "outputs": [
    {
     "data": {
      "text/plain": [
       "array([[[ 2],\n",
       "        [ 5]],\n",
       "\n",
       "       [[ 8],\n",
       "        [11]],\n",
       "\n",
       "       [[14],\n",
       "        [17]]])"
      ]
     },
     "execution_count": 2,
     "metadata": {},
     "output_type": "execute_result"
    }
   ],
   "source": [
    "import numpy as np\n",
    "arr = np.array([\n",
    "       [[1, 2, 3], [4, 5, 6]],\n",
    "       [[7, 8, 9], [10, 11, 12]],\n",
    "       [[13, 14, 15], [16, 17, 18]]\n",
    "   ])\n",
    "arr[:,:,1:2]"
   ]
  },
  {
   "cell_type": "markdown",
   "metadata": {},
   "source": [
    "ALPHA-2025"
   ]
  },
  {
   "cell_type": "code",
   "execution_count": 24,
   "metadata": {},
   "outputs": [
    {
     "name": "stdout",
     "output_type": "stream",
     "text": [
      "--------------\n",
      "[[ 4  3  2  1]\n",
      " [14 13 12 11]\n",
      " [24 23 22 21]\n",
      " [34 33 32 31]\n",
      " [44 43 42 41]]\n",
      "--------------\n",
      "[[41 42 43 44]\n",
      " [31 32 33 34]\n",
      " [21 22 23 24]\n",
      " [11 12 13 14]\n",
      " [ 1  2  3  4]]\n",
      "--------------\n",
      "[[44 43 42 41]\n",
      " [34 33 32 31]\n",
      " [24 23 22 21]\n",
      " [14 13 12 11]\n",
      " [ 4  3  2  1]]\n",
      "--------------\n",
      "[ 2 14]\n",
      "--------------\n",
      "[ 1 34]\n",
      "--------------\n",
      "[ 1 24 42]\n"
     ]
    }
   ],
   "source": [
    "arr = np.array([\n",
    "    [1,2,3,4],\n",
    "    [11,12,13,14],\n",
    "    [21,22,23,24],\n",
    "    [31,32,33,34],\n",
    "    [41,42,43,44]\n",
    "])\n",
    "\n",
    "print('--------------')\n",
    "print(arr[::,::-1])\n",
    "\n",
    "print('--------------')\n",
    "print(arr[::-1,::])\n",
    "\n",
    "print('--------------')\n",
    "print(arr[::-1,::-1])\n",
    "\n",
    "print('--------------')\n",
    "print(arr[[0,1],[1,3]])\n",
    "\n",
    "print('--------------')\n",
    "print(arr[[0,3],[0,3]])\n",
    "\n",
    "print('--------------')\n",
    "print(arr[[0,2,4],[0,3,1]])"
   ]
  },
  {
   "cell_type": "code",
   "execution_count": 26,
   "metadata": {},
   "outputs": [],
   "source": [
    "arr = np.array([\n",
    "\n",
    "               [\n",
    "\n",
    "                  [1,2,3],\n",
    "\n",
    "                  [11,12,13],\n",
    "\n",
    "                  [101,102,103],\n",
    "\n",
    "              ],\n",
    "\n",
    "              [\n",
    "\n",
    "                  [21,22,23],\n",
    "\n",
    "                  [31,32,33],\n",
    "\n",
    "                  [111,112,113],\n",
    "\n",
    "              ],\n",
    "\n",
    "               [\n",
    "\n",
    "                  [41,42,43],\n",
    "\n",
    "                  [41,42,43],\n",
    "\n",
    "                  [121,122,123],\n",
    "\n",
    "               ]\n",
    "\n",
    "            ])"
   ]
  },
  {
   "cell_type": "code",
   "execution_count": 55,
   "metadata": {},
   "outputs": [
    {
     "name": "stdout",
     "output_type": "stream",
     "text": [
      "------------\n",
      "[1 2 3]\n",
      "------------\n",
      "[[[ 1  2  3]]\n",
      "\n",
      " [[21 22 23]]\n",
      "\n",
      " [[41 42 43]]]\n",
      "------------\n",
      "Shape of 'a': (3, 1, 3)\n",
      "------------\n",
      "[[101 102 103]\n",
      " [121 122 123]]\n",
      "------------\n",
      "[[101 103]\n",
      " [121 123]]\n",
      "------------\n",
      "[[[  1   3]\n",
      "  [101 103]]\n",
      "\n",
      " [[ 41  43]\n",
      "  [121 123]]]\n"
     ]
    }
   ],
   "source": [
    "print('------------')\n",
    "print(arr[0][0])\n",
    "\n",
    "print('------------')\n",
    "print(arr[:,:1])\n",
    "\n",
    "print('------------')\n",
    "a = arr[:,:1]\n",
    "print(\"Shape of 'a':\",a.shape)\n",
    "\n",
    "print('------------')\n",
    "print(arr[::2,-1])\n",
    "\n",
    "print('------------')\n",
    "print(arr[::2,-1,::2])\n",
    "\n",
    "print('------------')\n",
    "print(arr[::2,::2,::2])"
   ]
  },
  {
   "cell_type": "code",
   "execution_count": 59,
   "metadata": {},
   "outputs": [
    {
     "name": "stdout",
     "output_type": "stream",
     "text": [
      "------------\n",
      "[[[123 122 121]\n",
      "  [ 43  42  41]\n",
      "  [ 43  42  41]]\n",
      "\n",
      " [[113 112 111]\n",
      "  [ 33  32  31]\n",
      "  [ 23  22  21]]\n",
      "\n",
      " [[103 102 101]\n",
      "  [ 13  12  11]\n",
      "  [  3   2   1]]]\n",
      "------------\n",
      "[  1  33 122]\n"
     ]
    }
   ],
   "source": [
    "print('------------')\n",
    "print(arr[::-1,::-1,::-1])\n",
    "\n",
    "print('------------')\n",
    "print(arr[[0,1,2],[0,1,2],[0,2,1]])"
   ]
  }
 ],
 "metadata": {
  "kernelspec": {
   "display_name": "Python 3",
   "language": "python",
   "name": "python3"
  },
  "language_info": {
   "codemirror_mode": {
    "name": "ipython",
    "version": 3
   },
   "file_extension": ".py",
   "mimetype": "text/x-python",
   "name": "python",
   "nbconvert_exporter": "python",
   "pygments_lexer": "ipython3",
   "version": "3.13.2"
  }
 },
 "nbformat": 4,
 "nbformat_minor": 2
}
