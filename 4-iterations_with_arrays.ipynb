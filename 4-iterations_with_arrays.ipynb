{
 "cells": [
  {
   "cell_type": "code",
   "execution_count": 3,
   "metadata": {},
   "outputs": [],
   "source": [
    "import numpy as np"
   ]
  },
  {
   "cell_type": "markdown",
   "metadata": {},
   "source": [
    "2D array iteration"
   ]
  },
  {
   "cell_type": "code",
   "execution_count": 2,
   "metadata": {},
   "outputs": [
    {
     "data": {
      "text/plain": [
       "(3, 3)"
      ]
     },
     "execution_count": 2,
     "metadata": {},
     "output_type": "execute_result"
    }
   ],
   "source": [
    "arr = np.array([\n",
    "    [1,2,3],\n",
    "    [4,5,6],\n",
    "    [7,8,9]\n",
    "])\n",
    "\n",
    "l =arr.shape\n",
    "l"
   ]
  },
  {
   "cell_type": "code",
   "execution_count": 3,
   "metadata": {},
   "outputs": [
    {
     "name": "stdout",
     "output_type": "stream",
     "text": [
      "[1 2 3]\n",
      "[4 5 6]\n",
      "[7 8 9]\n"
     ]
    }
   ],
   "source": [
    "for x in range(l[0]):\n",
    "    print(arr[x])"
   ]
  },
  {
   "cell_type": "code",
   "execution_count": 4,
   "metadata": {},
   "outputs": [
    {
     "name": "stdout",
     "output_type": "stream",
     "text": [
      "1\n",
      "2\n",
      "3\n",
      "4\n",
      "5\n",
      "6\n",
      "7\n",
      "8\n",
      "9\n"
     ]
    }
   ],
   "source": [
    "for y in range(l[0]):\n",
    "    for x in range(l[1]):\n",
    "        print(arr[y][x])"
   ]
  },
  {
   "cell_type": "markdown",
   "metadata": {},
   "source": [
    "3D array iteration"
   ]
  },
  {
   "cell_type": "code",
   "execution_count": 7,
   "metadata": {},
   "outputs": [
    {
     "name": "stdout",
     "output_type": "stream",
     "text": [
      "(3, 3, 3)\n"
     ]
    }
   ],
   "source": [
    "arr = np.array([\n",
    "    [\n",
    "        [1,2,3],\n",
    "        [4,5,6],\n",
    "        [7,8,9]\n",
    "    ],\n",
    "    [\n",
    "        [10,11,12],\n",
    "        [13,14,15],\n",
    "        [16,17,18]\n",
    "    ],\n",
    "    [\n",
    "        [19,20,21],\n",
    "        [22,23,24],\n",
    "        [25,26,27]\n",
    "    ],\n",
    "])\n",
    "l = arr.shape\n",
    "print(l)"
   ]
  },
  {
   "cell_type": "code",
   "execution_count": 8,
   "metadata": {},
   "outputs": [
    {
     "name": "stdout",
     "output_type": "stream",
     "text": [
      "[[1 2 3]\n",
      " [4 5 6]\n",
      " [7 8 9]]\n",
      "[[10 11 12]\n",
      " [13 14 15]\n",
      " [16 17 18]]\n",
      "[[19 20 21]\n",
      " [22 23 24]\n",
      " [25 26 27]]\n"
     ]
    }
   ],
   "source": [
    "for x in range(l[2]):\n",
    "    print(arr[x])"
   ]
  },
  {
   "cell_type": "code",
   "execution_count": 9,
   "metadata": {},
   "outputs": [
    {
     "name": "stdout",
     "output_type": "stream",
     "text": [
      "[1 2 3]\n",
      "[4 5 6]\n",
      "[7 8 9]\n",
      "[10 11 12]\n",
      "[13 14 15]\n",
      "[16 17 18]\n",
      "[19 20 21]\n",
      "[22 23 24]\n",
      "[25 26 27]\n"
     ]
    }
   ],
   "source": [
    "for x in range(l[0]):\n",
    "    for y in range(l[1]):\n",
    "        print(arr[x][y])"
   ]
  },
  {
   "cell_type": "code",
   "execution_count": 10,
   "metadata": {},
   "outputs": [
    {
     "name": "stdout",
     "output_type": "stream",
     "text": [
      "1\n",
      "2\n",
      "3\n",
      "4\n",
      "5\n",
      "6\n",
      "7\n",
      "8\n",
      "9\n",
      "10\n",
      "11\n",
      "12\n",
      "13\n",
      "14\n",
      "15\n",
      "16\n",
      "17\n",
      "18\n",
      "19\n",
      "20\n",
      "21\n",
      "22\n",
      "23\n",
      "24\n",
      "25\n",
      "26\n",
      "27\n"
     ]
    }
   ],
   "source": [
    "for x in range(l[0]):\n",
    "    for y in range(l[1]):\n",
    "        for z in range(l[2]):\n",
    "            print(arr[x][y][z])"
   ]
  },
  {
   "cell_type": "code",
   "execution_count": 11,
   "metadata": {},
   "outputs": [
    {
     "name": "stdout",
     "output_type": "stream",
     "text": [
      "1\n",
      "2\n",
      "3\n"
     ]
    }
   ],
   "source": [
    "for i in arr[0][0]:\n",
    "    print(i)\n",
    "    "
   ]
  },
  {
   "cell_type": "markdown",
   "metadata": {},
   "source": [
    "Alpha"
   ]
  },
  {
   "cell_type": "code",
   "execution_count": 8,
   "metadata": {},
   "outputs": [],
   "source": [
    "arr = np.array([\n",
    "    [1,2,3,4,5],\n",
    "    [11,12,13,14,15],\n",
    "    [21,22,23,24,25],\n",
    "    [31,32,33,34,35]\n",
    "])"
   ]
  },
  {
   "cell_type": "code",
   "execution_count": 21,
   "metadata": {},
   "outputs": [
    {
     "name": "stdout",
     "output_type": "stream",
     "text": [
      "Sum = 360\n"
     ]
    }
   ],
   "source": [
    "sum = 0\n",
    "for i in range(arr.shape[0]):\n",
    "    for j in range(arr.shape[1]):\n",
    "        sum+=arr[i][j]\n",
    "print('Sum =',sum)"
   ]
  },
  {
   "cell_type": "code",
   "execution_count": 27,
   "metadata": {},
   "outputs": [
    {
     "name": "stdout",
     "output_type": "stream",
     "text": [
      "Sum = 15\n",
      "Sum = 65\n",
      "Sum = 115\n",
      "Sum = 165\n"
     ]
    }
   ],
   "source": [
    "\n",
    "for i in range(arr.shape[0]):\n",
    "    sum = 0\n",
    "    for j in arr[i]:\n",
    "        sum+=j\n",
    "    print('Sum =',sum)"
   ]
  },
  {
   "cell_type": "code",
   "execution_count": 32,
   "metadata": {},
   "outputs": [],
   "source": [
    "arr = np.array([\n",
    "    [\n",
    "        [1,2,3],\n",
    "        [4,5,6],\n",
    "        [7,8,9]\n",
    "    ],\n",
    "    [\n",
    "        [11,12,13],\n",
    "        [14,15,16],\n",
    "        [17,18,19]\n",
    "    ],\n",
    "    [\n",
    "        [21,22,23],\n",
    "        [24,25,26],\n",
    "        [27,28,29]\n",
    "    ]\n",
    "])"
   ]
  },
  {
   "cell_type": "code",
   "execution_count": null,
   "metadata": {},
   "outputs": [
    {
     "name": "stdout",
     "output_type": "stream",
     "text": [
      "1 2 3 4 5 6 7 8 9 11 12 13 14 15 16 17 18 19 21 22 23 24 25 26 27 28 29 "
     ]
    }
   ],
   "source": [
    "# extracting single elements from a 3D array\n",
    "for z in range(arr.shape[0]):\n",
    "    for y in range(arr.shape[1]):\n",
    "        for x in range(arr.shape[2]):\n",
    "            print(arr[z][y][x], end=' ')"
   ]
  },
  {
   "cell_type": "code",
   "execution_count": 37,
   "metadata": {},
   "outputs": [
    {
     "name": "stdout",
     "output_type": "stream",
     "text": [
      "1 2 3 4 5 6 7 8 9 11 12 13 14 15 16 17 18 19 21 22 23 24 25 26 27 28 29 "
     ]
    }
   ],
   "source": [
    "for x in np.nditer(arr):\n",
    "    print(x, end = ' ')"
   ]
  },
  {
   "cell_type": "code",
   "execution_count": 40,
   "metadata": {},
   "outputs": [
    {
     "name": "stdout",
     "output_type": "stream",
     "text": [
      "(0, 0, 0) 1 , (0, 0, 1) 2 , (0, 0, 2) 3 , (0, 1, 0) 4 , (0, 1, 1) 5 , (0, 1, 2) 6 , (0, 2, 0) 7 , (0, 2, 1) 8 , (0, 2, 2) 9 , (1, 0, 0) 11 , (1, 0, 1) 12 , (1, 0, 2) 13 , (1, 1, 0) 14 , (1, 1, 1) 15 , (1, 1, 2) 16 , (1, 2, 0) 17 , (1, 2, 1) 18 , (1, 2, 2) 19 , (2, 0, 0) 21 , (2, 0, 1) 22 , (2, 0, 2) 23 , (2, 1, 0) 24 , (2, 1, 1) 25 , (2, 1, 2) 26 , (2, 2, 0) 27 , (2, 2, 1) 28 , (2, 2, 2) 29 , "
     ]
    }
   ],
   "source": [
    "for x,y in np.ndenumerate(arr):\n",
    "    print(x,y, end = ' , ')"
   ]
  },
  {
   "cell_type": "code",
   "execution_count": 41,
   "metadata": {},
   "outputs": [
    {
     "name": "stdout",
     "output_type": "stream",
     "text": [
      "Sum:45\n"
     ]
    }
   ],
   "source": [
    "# 1- Sum of All Elements in a 2D Array\n",
    "\n",
    "arr=np.array([[1,2,3],\n",
    "[4,5,6],\n",
    "[7,8,9]])\n",
    "\n",
    "# ExpectedOutput: Sum:45\n",
    "sum = 0\n",
    "for i in np.nditer(arr):\n",
    "    sum+=i\n",
    "print(f'Sum:{sum}')"
   ]
  },
  {
   "cell_type": "code",
   "execution_count": 42,
   "metadata": {},
   "outputs": [
    {
     "name": "stdout",
     "output_type": "stream",
     "text": [
      "[[ 2  6 12]\n",
      " [20 30 42]]\n"
     ]
    }
   ],
   "source": [
    "# 2- Element-wise Multiplication of Two 2D Arrays\n",
    "\n",
    "arr1=np.array([[1,2,3],\n",
    "[4,5,6]])\n",
    "\n",
    "arr2=np.array([[2,3,4],\n",
    "[5,6,7]])\n",
    "\n",
    "'''\n",
    "ExpectedOutput:\n",
    "[[2612]\n",
    "[203042]]\n",
    "'''\n",
    "print(arr1*arr2)\n"
   ]
  },
  {
   "cell_type": "code",
   "execution_count": 43,
   "metadata": {},
   "outputs": [
    {
     "name": "stdout",
     "output_type": "stream",
     "text": [
      "[[ 5. inf  6.]\n",
      " [10.  5. inf]]\n"
     ]
    },
    {
     "name": "stderr",
     "output_type": "stream",
     "text": [
      "C:\\Users\\pruth\\AppData\\Local\\Temp\\ipykernel_7460\\1073529090.py:17: RuntimeWarning: divide by zero encountered in divide\n",
      "  print(arr1/arr2)\n"
     ]
    }
   ],
   "source": [
    "# 3️ Element-wise Division(Avoid DividebyZeroError)\n",
    "\n",
    "arr1=np.array([[10,20,30],\n",
    "[40,50,60]])\n",
    "\n",
    "arr2=np.array([[2,0,5],\n",
    "[4,10,0]])#Containszero\n",
    "\n",
    " \n",
    "'''\n",
    "Expected Output(handled division byzerobyreplacingwith1):\n",
    "\n",
    "[[5.010.06.0]\n",
    "[10.05.060.0]]\n",
    "'''\n",
    "\n",
    "print(arr1/arr2)"
   ]
  },
  {
   "cell_type": "code",
   "execution_count": 61,
   "metadata": {},
   "outputs": [
    {
     "name": "stdout",
     "output_type": "stream",
     "text": [
      "Rowsums:[6, 15, 24]\n"
     ]
    }
   ],
   "source": [
    "# 4️- Row-wise and Column-wise Sum\n",
    "\n",
    "arr=np.array([[1,2,3],\n",
    "[4,5,6],\n",
    "[7,8,9]])\n",
    "\n",
    "'''\n",
    "Expected Output:\n",
    "Rowsums:[6,15,24]\n",
    "Columnsums:[12,15,18]\n",
    "'''\n",
    "row = []\n",
    "for i in range(arr.shape[0]):\n",
    "    sum = 0\n",
    "    for j in arr[i]:\n",
    "        sum+=j\n",
    "    row.append(int(sum))\n",
    "print(f'Rowsums:{row}')"
   ]
  },
  {
   "cell_type": "code",
   "execution_count": 4,
   "metadata": {},
   "outputs": [
    {
     "name": "stdout",
     "output_type": "stream",
     "text": [
      "row of row: [ 6 15 24]\n",
      "Column of Column: [12 15 18]\n"
     ]
    }
   ],
   "source": [
    "# 4- Row-wise and Column-wise Sum\n",
    "arr=np.array([[1,2,3],\n",
    "[4,5,6],\n",
    "[7,8,9]])\n",
    "row=np.sum(arr,axis=1)\n",
    "Column=np.sum(arr,axis=0)\n",
    "print(f\"row of row:\",row)\n",
    "print(f\"Column of Column:\",Column)\n"
   ]
  },
  {
   "cell_type": "code",
   "execution_count": 60,
   "metadata": {},
   "outputs": [
    {
     "name": "stdout",
     "output_type": "stream",
     "text": [
      "Sum:36\n"
     ]
    }
   ],
   "source": [
    "# 5️-Sum of All Elements in a 3D Array\n",
    "\n",
    "arr=np.array([[[1,2],[3,4]],\n",
    "[[5,6],[7,8]]])\n",
    "\n",
    "# Expected Output: Sum:36\n",
    "\n",
    "sum = 0\n",
    "for i in np.nditer(arr):\n",
    "    sum+=i\n",
    "print(f'Sum:{sum}')"
   ]
  },
  {
   "cell_type": "code",
   "execution_count": null,
   "metadata": {},
   "outputs": [
    {
     "name": "stdout",
     "output_type": "stream",
     "text": [
      "[[[ 2  6]\n",
      "  [12 20]]\n",
      "\n",
      " [[30 42]\n",
      "  [56 72]]]\n"
     ]
    }
   ],
   "source": [
    "# 6️-Element-wise Multiplication of Two 3DArrays \n",
    "\n",
    "arr1=np.array([[[1,2],[3,4]],\n",
    "[[5,6],[7,8]]])\n",
    "\n",
    "arr2=np.array([[[2,3],[4,5]],\n",
    "[[6,7],[8,9]]])\n",
    "\n",
    "'''\n",
    "Expected Output:\n",
    "[[[ 2  6]\n",
    "  [12 20]]\n",
    "\n",
    " [[30 42]\n",
    "  [56 72]]]\n",
    "'''\n",
    "print(arr1*arr2)"
   ]
  },
  {
   "cell_type": "code",
   "execution_count": null,
   "metadata": {},
   "outputs": [
    {
     "name": "stdout",
     "output_type": "stream",
     "text": [
      "Average:6.5\n"
     ]
    }
   ],
   "source": [
    "# 7️- Find the Average of a 3DArray\n",
    "\n",
    "arr=np.array([[[1,2,3],\n",
    "[4,5,6]],\n",
    "[[7,8,9],\n",
    "[10,11,12]]])\n",
    "\n",
    "# Expected Output: Average:6.5\n",
    "\n",
    "total,count = 0,0\n",
    "for i in np.nditer(arr):\n",
    "    total+=i\n",
    "    count+=1\n",
    "\n",
    "avg = total/count\n",
    "print(f'Average:{avg}')"
   ]
  }
 ],
 "metadata": {
  "kernelspec": {
   "display_name": "Python 3",
   "language": "python",
   "name": "python3"
  },
  "language_info": {
   "codemirror_mode": {
    "name": "ipython",
    "version": 3
   },
   "file_extension": ".py",
   "mimetype": "text/x-python",
   "name": "python",
   "nbconvert_exporter": "python",
   "pygments_lexer": "ipython3",
   "version": "3.13.2"
  }
 },
 "nbformat": 4,
 "nbformat_minor": 2
}
