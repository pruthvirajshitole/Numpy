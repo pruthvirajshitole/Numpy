{
 "cells": [
  {
   "cell_type": "code",
   "execution_count": null,
   "metadata": {},
   "outputs": [],
   "source": [
    "'''\n",
    "\n",
    "The Difference Between Copy and View:\n",
    "\n",
    "The main difference between a copy and a view of an array is that the copy is a new array, \n",
    "\n",
    "and the view is just a view of the original array.\n",
    "\n",
    "The copy owns the data and any changes made to the copy will not affect original array, \n",
    "\n",
    "and any changes made to the original array will not affect the copy.\n",
    "\n",
    "The view does not own the data and any changes made to the view will affect the original array, \n",
    "\n",
    "and any changes made to the original array will affect the view.\n",
    "\n",
    "'''"
   ]
  },
  {
   "cell_type": "code",
   "execution_count": 1,
   "metadata": {},
   "outputs": [],
   "source": [
    "import numpy as np"
   ]
  },
  {
   "cell_type": "code",
   "execution_count": 2,
   "metadata": {},
   "outputs": [
    {
     "name": "stdout",
     "output_type": "stream",
     "text": [
      "[1 2 3 4]\n",
      "[1 2 3 4]\n"
     ]
    }
   ],
   "source": [
    "arr_original = np.array([1,2,3,4])\n",
    "arr_copy = arr_original.copy()\n",
    "print(arr_original)\n",
    "print(arr_copy)"
   ]
  },
  {
   "cell_type": "code",
   "execution_count": 5,
   "metadata": {},
   "outputs": [
    {
     "name": "stdout",
     "output_type": "stream",
     "text": [
      "[99  2  3  4]\n",
      "[1 2 3 4]\n"
     ]
    }
   ],
   "source": [
    "arr_original[0] = 99\n",
    "print(arr_original)\n",
    "print(arr_copy)"
   ]
  },
  {
   "cell_type": "code",
   "execution_count": null,
   "metadata": {},
   "outputs": [],
   "source": [
    "'''\n",
    "How does it work?\n",
    "\n",
    "The object (arr_original) has two parts:\n",
    "The Python object metadata (which includes ID, shape, dtype, etc.).\n",
    "The data buffer (actual array values stored in memory).\n",
    "When you create a view (arr_view = arr_original.view()):\n",
    "A new Python object (arr_view) is created with a different id(arr_view).\n",
    "But the data buffer (memory location of the elements) is shared with arr_original.\n",
    "This means modifying elements in arr_view also modifies arr_original, since both point to the same underlying data.\n",
    "\n",
    "'''"
   ]
  },
  {
   "cell_type": "code",
   "execution_count": 22,
   "metadata": {},
   "outputs": [
    {
     "name": "stdout",
     "output_type": "stream",
     "text": [
      "[1 2 3 4] 1802586377168\n",
      "[1 2 3 4] 1802586383504\n",
      "[ True  True  True  True]\n"
     ]
    }
   ],
   "source": [
    "arr_original = np.array([1,2,3,4])\n",
    "arr_view = arr_original.view()\n",
    "print(arr_original, id(arr_original))\n",
    "print(arr_view, id(arr_view))\n",
    "\n",
    "print(arr_original == arr_copy)"
   ]
  },
  {
   "cell_type": "code",
   "execution_count": 7,
   "metadata": {},
   "outputs": [
    {
     "name": "stdout",
     "output_type": "stream",
     "text": [
      "[100   2   3   4]\n",
      "[100   2   3   4]\n"
     ]
    }
   ],
   "source": [
    "arr_original[0] = 100\n",
    "print(arr_original)\n",
    "print(arr_view)"
   ]
  },
  {
   "cell_type": "code",
   "execution_count": 8,
   "metadata": {},
   "outputs": [
    {
     "name": "stdout",
     "output_type": "stream",
     "text": [
      "[1 2 3]\n",
      "[1 2 3]\n"
     ]
    }
   ],
   "source": [
    "arr_original = np.array([1,2,3])\n",
    "arr_test = arr_original\n",
    "print(arr_original)\n",
    "print(arr_test)"
   ]
  },
  {
   "cell_type": "code",
   "execution_count": 9,
   "metadata": {},
   "outputs": [
    {
     "name": "stdout",
     "output_type": "stream",
     "text": [
      "[99  2  3]\n",
      "[99  2  3]\n"
     ]
    }
   ],
   "source": [
    "arr_original[0] = 99\n",
    "print(arr_original)\n",
    "print(arr_test)"
   ]
  },
  {
   "cell_type": "code",
   "execution_count": 5,
   "metadata": {},
   "outputs": [
    {
     "name": "stdout",
     "output_type": "stream",
     "text": [
      "None\n",
      "[1 2 3 4 5]\n"
     ]
    }
   ],
   "source": [
    "# The copy returns None.\n",
    "# The view returns the original array.\n",
    "\n",
    "arr = np.array([1, 2, 3, 4, 5])\n",
    "\n",
    "x = arr.copy()\n",
    "y = arr.view()\n",
    "\n",
    "print(x.base)\n",
    "print(y.base)"
   ]
  }
 ],
 "metadata": {
  "kernelspec": {
   "display_name": "Python 3",
   "language": "python",
   "name": "python3"
  },
  "language_info": {
   "codemirror_mode": {
    "name": "ipython",
    "version": 3
   },
   "file_extension": ".py",
   "mimetype": "text/x-python",
   "name": "python",
   "nbconvert_exporter": "python",
   "pygments_lexer": "ipython3",
   "version": "3.13.2"
  }
 },
 "nbformat": 4,
 "nbformat_minor": 2
}
